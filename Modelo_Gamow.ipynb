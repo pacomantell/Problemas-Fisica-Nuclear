{
 "cells": [
  {
   "cell_type": "code",
   "execution_count": 2,
   "metadata": {},
   "outputs": [],
   "source": [
    "#   Copyright: © 2020 FRANCISCO JOSÉ MANTELL ZAMUDIO\n",
    "\n",
    "import numpy as np\n",
    "import pylab as pl\n",
    "\n",
    "import pylab as pl\n",
    "from matplotlib import pyplot as plt\n",
    "\n",
    "from sympy.interactive import printing\n",
    "from sympy import Symbol, Derivative, diff, simplify, solve\n",
    "#Constantes\n",
    "av, asup, ac, asym, apar = 16.0, 18.0, 0.72, 28.0, 34.0\n",
    "hbarc , mp, mn, R0, c, h = 197.327, 938.272, 939.565, 1.23, 3e23, 6.62e-34"
   ]
  },
  {
   "cell_type": "code",
   "execution_count": 5,
   "metadata": {},
   "outputs": [],
   "source": [
    "#Numeros masicos\n",
    "A = [4,12,14]\n",
    "#Numeros atomicos\n",
    "Z = [86,2,6,6,84,80,80]\n",
    "#Energias de ligadura\n",
    "BRn, BPo, Balfa, BHg1, B12, BHg2, B14 = 1697.8, 1675.9, 28.295, 1629.3, 92.2, 1621.1, 105.284"
   ]
  },
  {
   "cell_type": "code",
   "execution_count": 6,
   "metadata": {},
   "outputs": [
    {
     "data": {
      "text/plain": [
       "[6.395000000000209, 23.700000000000045, 28.58400000000006]"
      ]
     },
     "execution_count": 6,
     "metadata": {},
     "output_type": "execute_result"
    }
   ],
   "source": [
    "#Calor de reaccion:\n",
    "Q = [(BPo+Balfa-BRn), (BHg1+B12-BRn), (BHg2+B14-BRn)]\n",
    "Q"
   ]
  },
  {
   "cell_type": "code",
   "execution_count": 9,
   "metadata": {},
   "outputs": [
    {
     "data": {
      "text/plain": [
       "([3727.379, 11174.822, 13040.868000000002], 7.4252772062611525)"
      ]
     },
     "execution_count": 9,
     "metadata": {},
     "output_type": "execute_result"
    }
   ],
   "source": [
    "#Masa\n",
    "MASA = [(2*(mp+mn)-Balfa), (6*(mp+mn)-B12), ((6*mp)+(8*mn)-B14)]\n",
    "Malfa = MASA[0]\n",
    "M12 = MASA[1]\n",
    "M14 = MASA[2]\n",
    "#Radio nuclear\n",
    "def R(y):\n",
    "    r = R0*(y**(1/3))\n",
    "    return r\n",
    "R = R(220)\n",
    "MASA, R"
   ]
  },
  {
   "cell_type": "code",
   "execution_count": 12,
   "metadata": {},
   "outputs": [
    {
     "data": {
      "text/plain": [
       "[3659.5697934740415, 10565.285853884036, 12210.746641813243]"
      ]
     },
     "execution_count": 12,
     "metadata": {},
     "output_type": "execute_result"
    }
   ],
   "source": [
    "#masas del nucleo padre y los hijos:\n",
    "MRn, MPo, MHg1, MHg2 = ((86*mp)+(134*mn)-BRn), ((84*mp)+(132*mn)-BPo), ((80*mp)+(128*mn)-BHg1), ((80*mp)+(126*mn)-BHg2)\n",
    "#Masa reducida\n",
    "mu = [((MPo*Malfa)/(MPo+Malfa)), ((MHg1*M12)/(MHg1+M12)), ((MHg2*M14)/(MHg2+M14))]\n",
    "mu"
   ]
  },
  {
   "cell_type": "code",
   "execution_count": 31,
   "metadata": {},
   "outputs": [
    {
     "data": {
      "text/plain": [
       "array([6.70937767e+21, 4.48003743e+21, 4.29202287e+21, 6.77125234e+21,\n",
       "       4.60745735e+21, 4.43551617e+21])"
      ]
     },
     "execution_count": 31,
     "metadata": {},
     "output_type": "execute_result"
    }
   ],
   "source": [
    "#Energia de la particula emitida\n",
    "T = np.zeros(3)\n",
    "V = np.zeros(6)\n",
    "VC = np.zeros(6)\n",
    "f = np.zeros(6)\n",
    "for i in range(0,3):\n",
    "    t = Q[i]+45\n",
    "    T[i] =t\n",
    "    #Velocidad\n",
    "for j in range(0,3):\n",
    "    t = T[j]\n",
    "    m = MASA[j]\n",
    "    v = np.sqrt((2*t)/m)*c\n",
    "    vc = np.sqrt((2*t)/m)\n",
    "    V[j] = v\n",
    "    VC[j] = vc\n",
    "#Frecuencia de colision\n",
    "    frec = v/R\n",
    "    f[j] = frec\n",
    "for j in range(3,6):\n",
    "    t =T[j-3]\n",
    "    m = mu[j-3]\n",
    "    v = np.sqrt((2*t)/m)*c\n",
    "    vc = np.sqrt((2*t)/m)\n",
    "    V[j] = v\n",
    "    VC[j] = vc\n",
    "    f[j] = v/R\n",
    "    \n",
    "f"
   ]
  },
  {
   "cell_type": "code",
   "execution_count": 24,
   "metadata": {},
   "outputs": [
    {
     "data": {
      "text/plain": [
       "array([37.82862649, 29.16384164, 24.1807671 ])"
      ]
     },
     "execution_count": 24,
     "metadata": {},
     "output_type": "execute_result"
    }
   ],
   "source": [
    "#Valor de e^2 en MeV*fm\n",
    "e2 = hbarc/137.036\n",
    "#Punto de corte con la barrera culombiana\n",
    "R1 = np.zeros(3)\n",
    "j = 0\n",
    "for i in [168, 480, 480]:\n",
    "    q = Q[j]\n",
    "    r1 = i*e2/q\n",
    "    R1[j] = r1\n",
    "    j+=1\n",
    "R1"
   ]
  },
  {
   "cell_type": "code",
   "execution_count": 25,
   "metadata": {},
   "outputs": [
    {
     "data": {
      "text/plain": [
       "array([32.5798027 , 93.08515057, 93.08515057, 32.5798027 , 93.08515057,\n",
       "       93.08515057])"
      ]
     },
     "execution_count": 25,
     "metadata": {},
     "output_type": "execute_result"
    }
   ],
   "source": [
    "B = np.zeros(6)\n",
    "#Factor de Gamow\n",
    "G = np.zeros(6)\n",
    "j = 0\n",
    "for i in [168, 480, 480]:\n",
    "    m = MASA[j]\n",
    "    q = Q[j]\n",
    "    rai = np.sqrt(2*m/(q*(hbarc**2)))\n",
    "    x = R/R1[j]\n",
    "    g = rai*i*e2*(np.arccos(np.sqrt(x))-np.sqrt(x*(1-x)))\n",
    "    G[j] = g\n",
    "    b = i*e2/R\n",
    "    B[j] = b\n",
    "    j+=1\n",
    "    \n",
    "j = 0\n",
    "for i in [168, 480, 480]:\n",
    "    m = mu[j]\n",
    "    q = Q[j]\n",
    "    rai = np.sqrt(2*m/(q*(hbarc**2)))\n",
    "    x = R/R1[j]\n",
    "    g = rai*i*e2*(np.arccos(np.sqrt(x))-np.sqrt(x*(1-x)))\n",
    "    G[j+3] = g\n",
    "    b = i*e2/R\n",
    "    B[j+3] = b\n",
    "    j+=1\n",
    "B"
   ]
  },
  {
   "cell_type": "code",
   "execution_count": 26,
   "metadata": {},
   "outputs": [
    {
     "data": {
      "text/plain": [
       "array([7.00624086e-05, 1.02169385e-35, 4.39163697e-27, 1.22147349e-04,\n",
       "       3.87206212e-34, 1.61969524e-25])"
      ]
     },
     "execution_count": 26,
     "metadata": {},
     "output_type": "execute_result"
    }
   ],
   "source": [
    "#Coeficiente de transmision\n",
    "P = np.exp(-2*G)\n",
    "#Probabilidad de desintegracion po unidad de tiempo\n",
    "landa = f*P\n",
    "landa"
   ]
  },
  {
   "cell_type": "code",
   "execution_count": 27,
   "metadata": {},
   "outputs": [
    {
     "data": {
      "text/plain": [
       "array([9.89328221e+03, 6.78429437e+34, 1.57833442e+26, 5.67468049e+03,\n",
       "       1.79012412e+33, 4.27949138e+24])"
      ]
     },
     "execution_count": 27,
     "metadata": {},
     "output_type": "execute_result"
    }
   ],
   "source": [
    "#Vida mitad\n",
    "tmitad = np.log(2)/landa\n",
    "tmitad"
   ]
  },
  {
   "cell_type": "code",
   "execution_count": 28,
   "metadata": {},
   "outputs": [
    {
     "data": {
      "text/plain": [
       "array([29.91195866, 65.21146736, 55.25057029, 29.63862773, 63.40803453,\n",
       "       53.46316013])"
      ]
     },
     "execution_count": 28,
     "metadata": {},
     "output_type": "execute_result"
    }
   ],
   "source": [
    "G"
   ]
  },
  {
   "cell_type": "code",
   "execution_count": 29,
   "metadata": {},
   "outputs": [
    {
     "data": {
      "text/plain": [
       "array([1.04424601e-26, 2.28054757e-57, 1.02320913e-48, 1.80391076e-26,\n",
       "       8.40390225e-56, 3.65164994e-47])"
      ]
     },
     "execution_count": 29,
     "metadata": {},
     "output_type": "execute_result"
    }
   ],
   "source": [
    "P"
   ]
  },
  {
   "cell_type": "code",
   "execution_count": 30,
   "metadata": {},
   "outputs": [
    {
     "data": {
      "text/plain": [
       "array([0.1660633 , 0.11088507, 0.10623153, 0.16759475, 0.11403883,\n",
       "       0.10978312])"
      ]
     },
     "execution_count": 30,
     "metadata": {},
     "output_type": "execute_result"
    }
   ],
   "source": [
    "VC"
   ]
  },
  {
   "cell_type": "code",
   "execution_count": null,
   "metadata": {},
   "outputs": [],
   "source": []
  }
 ],
 "metadata": {
  "kernelspec": {
   "display_name": "Python 3",
   "language": "python",
   "name": "python3"
  },
  "language_info": {
   "codemirror_mode": {
    "name": "ipython",
    "version": 3
   },
   "file_extension": ".py",
   "mimetype": "text/x-python",
   "name": "python",
   "nbconvert_exporter": "python",
   "pygments_lexer": "ipython3",
   "version": "3.8.5"
  }
 },
 "nbformat": 4,
 "nbformat_minor": 4
}
